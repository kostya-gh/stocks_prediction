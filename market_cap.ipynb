{
 "cells": [
  {
   "cell_type": "code",
   "execution_count": 1,
   "id": "frank-snapshot",
   "metadata": {},
   "outputs": [],
   "source": [
    "import pandas as pd"
   ]
  },
  {
   "cell_type": "code",
   "execution_count": 2,
   "id": "attempted-introduction",
   "metadata": {},
   "outputs": [],
   "source": [
    "moex = 'https://www.moex.com/'\n",
    "init = 'a20'  # 4 квартал 2011 г.\n",
    "urls = (('a685', 'a1127', 'a1244', 'a1465'), ('a1688', 'a1823', 'a2045', 'a2261'),\n",
    "        ('a2474', 'a2702', 'a2813', 'a2987'), ('a3048', 'a3177', 'a3369', 'a3503'),\n",
    "        ('a3601', 'a3691', 'a3794', 'a3882'), ('a4027', 'a4094', 'a4184', 'a4258'),\n",
    "        ('a4318', 'a4377', 'a4420', 'a6401'), ('a6861', 'a6997', 'a7080', 'a7150'),\n",
    "        ('a7246', 'a7305', 'a7396', 'a7605'))  # квартальные за 2012-2020 гг."
   ]
  },
  {
   "cell_type": "code",
   "execution_count": 3,
   "id": "increased-consumer",
   "metadata": {},
   "outputs": [],
   "source": [
    "years = range(2012, 2021)\n",
    "quarters = range(1, 5)"
   ]
  },
  {
   "cell_type": "code",
   "execution_count": 4,
   "id": "sorted-earth",
   "metadata": {},
   "outputs": [],
   "source": [
    "def parser(url):\n",
    "    df = pd.read_html(url, index_col=0, thousands=' ', decimal=',')[0]\n",
    "    df.columns = ['name', 'category', 'id', 'volume', 'price', 'cap']\n",
    "    df.index.name = 'code'\n",
    "    return df"
   ]
  },
  {
   "cell_type": "code",
   "execution_count": 5,
   "id": "applied-perth",
   "metadata": {},
   "outputs": [],
   "source": [
    "def string_handler(string):\n",
    "    if type(string) == str:\n",
    "        x = bytes(string, 'latin1')\n",
    "        x = x.replace(b'\\xa0', b'')\n",
    "        x = x.replace(b',', b'.')\n",
    "        x = x.decode('latin1')\n",
    "        x = x.replace(' ', '', 10)\n",
    "        return x\n",
    "    return string"
   ]
  },
  {
   "cell_type": "code",
   "execution_count": 6,
   "id": "failing-poetry",
   "metadata": {},
   "outputs": [],
   "source": [
    "df = parser(moex + init)\n",
    "\n",
    "for i, year in enumerate(years):\n",
    "    for j, quarter in enumerate(quarters):\n",
    "        df = df.merge(parser(moex + urls[i][j]), how='outer',\n",
    "                      left_index=True, right_index=True,\n",
    "                      suffixes=(None, '_' + str(year) + '_' + str(quarter)))"
   ]
  },
  {
   "cell_type": "code",
   "execution_count": 7,
   "id": "welcome-discretion",
   "metadata": {},
   "outputs": [],
   "source": [
    "for col in df.columns:\n",
    "    if 'cap' in col:\n",
    "        df[col] = df[col].apply(string_handler).astype(float)\n",
    "    elif 'volume' in col:\n",
    "        df[col] = pd.to_numeric(df[col].apply(string_handler), errors='coerce')"
   ]
  },
  {
   "cell_type": "code",
   "execution_count": 8,
   "id": "incredible-congress",
   "metadata": {},
   "outputs": [],
   "source": [
    "true_values = dict.fromkeys(df.index.values, [0, 1, 2])\n",
    "for col in df.columns:\n",
    "    if 'name' in col:\n",
    "        for idx in true_values.keys():\n",
    "            if type(df[col].loc[idx]) == str:\n",
    "                true_values[idx][0] = df[col].loc[idx]\n",
    "    elif 'category' in col:\n",
    "        for idx in true_values.keys():\n",
    "            if type(df[col].loc[idx]) == str:\n",
    "                true_values[idx][1] = df[col].loc[idx]\n",
    "    elif 'id' in col:\n",
    "        for idx in true_values.keys():\n",
    "            if type(df[col].loc[idx]) == str:\n",
    "                true_values[idx][2] = df[col].loc[idx]"
   ]
  },
  {
   "cell_type": "code",
   "execution_count": 9,
   "id": "welsh-moment",
   "metadata": {},
   "outputs": [],
   "source": [
    "df['name'] = df.merge(pd.DataFrame(true_values,\n",
    "                                   columns=['true_names', 'true_categories', 'true_id']),\n",
    "                      left_index=True, right_index=True, how='inner')['true_names']\n",
    "df['category'] = df.merge(pd.DataFrame(true_values,\n",
    "                                   columns=['true_names', 'true_categories', 'true_id']),\n",
    "                      left_index=True, right_index=True, how='inner')['true_categories']\n",
    "df['id'] = df.merge(pd.DataFrame(true_values,\n",
    "                                   columns=['true_names', 'true_categories', 'true_id']),\n",
    "                      left_index=True, right_index=True, how='inner')['true_id']"
   ]
  },
  {
   "cell_type": "code",
   "execution_count": 11,
   "id": "rising-reservoir",
   "metadata": {},
   "outputs": [],
   "source": [
    "for col in df.columns:\n",
    "    if ('name' in col or 'category' in col or 'id' in col)\\\n",
    "    and (col != 'name' and col != 'category' and col != 'id'):\n",
    "        del df[col]"
   ]
  },
  {
   "cell_type": "code",
   "execution_count": 14,
   "id": "given-league",
   "metadata": {},
   "outputs": [],
   "source": [
    "true_values = dict.fromkeys(df.index.values, [0, 1, 2])"
   ]
  },
  {
   "cell_type": "code",
   "execution_count": 17,
   "id": "pleasant-scale",
   "metadata": {},
   "outputs": [],
   "source": [
    "true_values['ABBN'][0] = 5"
   ]
  },
  {
   "cell_type": "code",
   "execution_count": 20,
   "id": "wound-economy",
   "metadata": {},
   "outputs": [
    {
     "data": {
      "text/plain": [
       "[[]]"
      ]
     },
     "execution_count": 20,
     "metadata": {},
     "output_type": "execute_result"
    }
   ],
   "source": [
    "[[] * 10]"
   ]
  },
  {
   "cell_type": "code",
   "execution_count": null,
   "id": "nearby-packet",
   "metadata": {},
   "outputs": [],
   "source": []
  },
  {
   "cell_type": "code",
   "execution_count": null,
   "id": "clean-counter",
   "metadata": {},
   "outputs": [],
   "source": []
  }
 ],
 "metadata": {
  "kernelspec": {
   "display_name": "Python 3",
   "language": "python",
   "name": "python3"
  },
  "language_info": {
   "codemirror_mode": {
    "name": "ipython",
    "version": 3
   },
   "file_extension": ".py",
   "mimetype": "text/x-python",
   "name": "python",
   "nbconvert_exporter": "python",
   "pygments_lexer": "ipython3",
   "version": "3.9.1"
  }
 },
 "nbformat": 4,
 "nbformat_minor": 5
}
