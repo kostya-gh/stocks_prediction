{
 "cells": [
  {
   "cell_type": "code",
   "execution_count": 1,
   "id": "informational-bicycle",
   "metadata": {},
   "outputs": [],
   "source": [
    "import pandas as pd"
   ]
  },
  {
   "cell_type": "code",
   "execution_count": 2,
   "id": "political-cleaner",
   "metadata": {},
   "outputs": [],
   "source": [
    "moex = 'https://www.moex.com/'\n",
    "init = 'a20'  # 4 квартал 2011 г.\n",
    "urls = (('a685', 'a1127', 'a1244', 'a1465'), ('a1688', 'a1823', 'a2045', 'a2261'),\n",
    "        ('a2474', 'a2702', 'a2813', 'a2987'), ('a3048', 'a3177', 'a3369', 'a3503'),\n",
    "        ('a3601', 'a3691', 'a3794', 'a3882'), ('a4027', 'a4094', 'a4184', 'a4258'),\n",
    "        ('a4318', 'a4377', 'a4420', 'a6401'), ('a6861', 'a6997', 'a7080', 'a7150'),\n",
    "        ('a7246', 'a7305', 'a7396', 'a7605'))  # квартальные 2012-2020 гг."
   ]
  },
  {
   "cell_type": "code",
   "execution_count": 3,
   "id": "featured-hollow",
   "metadata": {},
   "outputs": [],
   "source": [
    "def parser(url):\n",
    "    df = pd.read_html(url, index_col=0, thousands=' ', decimal=',')[0]\n",
    "    df.columns = ['name', 'category', 'id', 'volume', 'price', 'cap']\n",
    "    df.index.name = 'code'\n",
    "    return df"
   ]
  },
  {
   "cell_type": "code",
   "execution_count": 4,
   "id": "consolidated-cotton",
   "metadata": {},
   "outputs": [],
   "source": [
    "years = range(2012, 2021)\n",
    "quarters = range(1, 5)"
   ]
  },
  {
   "cell_type": "code",
   "execution_count": 5,
   "id": "binding-banking",
   "metadata": {},
   "outputs": [],
   "source": [
    "df = parser(moex + init)"
   ]
  },
  {
   "cell_type": "code",
   "execution_count": 6,
   "id": "mathematical-finder",
   "metadata": {},
   "outputs": [],
   "source": [
    "for i, year in enumerate(years):\n",
    "    for j, quarter in enumerate(quarters):\n",
    "        df = df.merge(parser(moex + urls[i][j]), how='outer',\n",
    "                      left_index=True, right_index=True,\n",
    "                      suffixes=(None, '_' + str(year) + '_' + str(quarter)))"
   ]
  },
  {
   "cell_type": "code",
   "execution_count": 14,
   "id": "bored-community",
   "metadata": {},
   "outputs": [],
   "source": [
    "import re        "
   ]
  },
  {
   "cell_type": "code",
   "execution_count": null,
   "id": "concrete-apparel",
   "metadata": {},
   "outputs": [],
   "source": []
  },
  {
   "cell_type": "code",
   "execution_count": 7,
   "id": "sealed-green",
   "metadata": {},
   "outputs": [],
   "source": [
    "df.to_csv('market_cap.csv', sep=',', decimal='.')"
   ]
  },
  {
   "cell_type": "code",
   "execution_count": null,
   "id": "exciting-kelly",
   "metadata": {},
   "outputs": [],
   "source": []
  },
  {
   "cell_type": "code",
   "execution_count": null,
   "id": "saved-carbon",
   "metadata": {},
   "outputs": [],
   "source": []
  }
 ],
 "metadata": {
  "kernelspec": {
   "display_name": "Python 3",
   "language": "python",
   "name": "python3"
  },
  "language_info": {
   "codemirror_mode": {
    "name": "ipython",
    "version": 3
   },
   "file_extension": ".py",
   "mimetype": "text/x-python",
   "name": "python",
   "nbconvert_exporter": "python",
   "pygments_lexer": "ipython3",
   "version": "3.9.1"
  }
 },
 "nbformat": 4,
 "nbformat_minor": 5
}
